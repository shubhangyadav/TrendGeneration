{
 "cells": [
  {
   "cell_type": "code",
   "execution_count": 1,
   "metadata": {},
   "outputs": [
    {
     "name": "stdout",
     "output_type": "stream",
     "text": [
      "   Valuation Date TTM Revenue TTM EBITDA  EBITDA Margin (%)\n",
      "0      2005-12-31      $8.49B     $0.55B             0.0651\n",
      "1      2006-12-31     $10.71B     $0.59B             0.0555\n",
      "2      2007-12-31     $14.84B     $0.90B             0.0607\n",
      "3      2008-12-31     $19.17B     $1.13B             0.0589\n",
      "4      2009-12-31     $24.51B     $1.51B             0.0615\n",
      "5      2010-12-31     $34.20B     $1.97B             0.0577\n",
      "6      2011-12-31     $48.08B     $1.95B             0.0405\n",
      "7      2012-12-31     $61.09B     $2.84B             0.0464\n",
      "8      2013-12-31     $74.45B     $4.00B             0.0537\n",
      "9      2014-12-31     $88.99B     $4.92B             0.0553\n",
      "10     2015-12-31    $107.01B     $8.51B             0.0796\n",
      "11     2016-12-31    $135.99B    $12.30B             0.0905\n",
      "12     2017-12-31    $177.87B    $15.58B             0.0876\n",
      "13     2018-12-31    $232.89B    $27.76B             0.1192\n",
      "14     2019-12-31    $280.52B    $36.33B             0.1295\n"
     ]
    }
   ],
   "source": [
    "import pandas as pd\n",
    "import matplotlib.pyplot as plt\n",
    "xls = pd.ExcelFile('Desktop/CloudTara/Microsoft_Train.xlsx')\n",
    "ms = pd.read_excel(xls, 'Sheet1')\n",
    "print(ms)"
   ]
  },
  {
   "cell_type": "code",
   "execution_count": 2,
   "metadata": {},
   "outputs": [
    {
     "data": {
      "text/html": [
       "<div>\n",
       "<style scoped>\n",
       "    .dataframe tbody tr th:only-of-type {\n",
       "        vertical-align: middle;\n",
       "    }\n",
       "\n",
       "    .dataframe tbody tr th {\n",
       "        vertical-align: top;\n",
       "    }\n",
       "\n",
       "    .dataframe thead th {\n",
       "        text-align: right;\n",
       "    }\n",
       "</style>\n",
       "<table border=\"1\" class=\"dataframe\">\n",
       "  <thead>\n",
       "    <tr style=\"text-align: right;\">\n",
       "      <th></th>\n",
       "      <th>Valuation Date</th>\n",
       "      <th>TTM Revenue</th>\n",
       "      <th>TTM EBITDA</th>\n",
       "      <th>EBITDA Margin (%)</th>\n",
       "      <th>Revenue</th>\n",
       "    </tr>\n",
       "  </thead>\n",
       "  <tbody>\n",
       "    <tr>\n",
       "      <th>0</th>\n",
       "      <td>2005-12-31</td>\n",
       "      <td>$8.49B</td>\n",
       "      <td>$0.55B</td>\n",
       "      <td>0.0651</td>\n",
       "      <td>8.49</td>\n",
       "    </tr>\n",
       "    <tr>\n",
       "      <th>1</th>\n",
       "      <td>2006-12-31</td>\n",
       "      <td>$10.71B</td>\n",
       "      <td>$0.59B</td>\n",
       "      <td>0.0555</td>\n",
       "      <td>10.71</td>\n",
       "    </tr>\n",
       "    <tr>\n",
       "      <th>2</th>\n",
       "      <td>2007-12-31</td>\n",
       "      <td>$14.84B</td>\n",
       "      <td>$0.90B</td>\n",
       "      <td>0.0607</td>\n",
       "      <td>14.84</td>\n",
       "    </tr>\n",
       "    <tr>\n",
       "      <th>3</th>\n",
       "      <td>2008-12-31</td>\n",
       "      <td>$19.17B</td>\n",
       "      <td>$1.13B</td>\n",
       "      <td>0.0589</td>\n",
       "      <td>19.17</td>\n",
       "    </tr>\n",
       "    <tr>\n",
       "      <th>4</th>\n",
       "      <td>2009-12-31</td>\n",
       "      <td>$24.51B</td>\n",
       "      <td>$1.51B</td>\n",
       "      <td>0.0615</td>\n",
       "      <td>24.51</td>\n",
       "    </tr>\n",
       "    <tr>\n",
       "      <th>5</th>\n",
       "      <td>2010-12-31</td>\n",
       "      <td>$34.20B</td>\n",
       "      <td>$1.97B</td>\n",
       "      <td>0.0577</td>\n",
       "      <td>34.20</td>\n",
       "    </tr>\n",
       "    <tr>\n",
       "      <th>6</th>\n",
       "      <td>2011-12-31</td>\n",
       "      <td>$48.08B</td>\n",
       "      <td>$1.95B</td>\n",
       "      <td>0.0405</td>\n",
       "      <td>48.08</td>\n",
       "    </tr>\n",
       "    <tr>\n",
       "      <th>7</th>\n",
       "      <td>2012-12-31</td>\n",
       "      <td>$61.09B</td>\n",
       "      <td>$2.84B</td>\n",
       "      <td>0.0464</td>\n",
       "      <td>61.09</td>\n",
       "    </tr>\n",
       "    <tr>\n",
       "      <th>8</th>\n",
       "      <td>2013-12-31</td>\n",
       "      <td>$74.45B</td>\n",
       "      <td>$4.00B</td>\n",
       "      <td>0.0537</td>\n",
       "      <td>74.45</td>\n",
       "    </tr>\n",
       "    <tr>\n",
       "      <th>9</th>\n",
       "      <td>2014-12-31</td>\n",
       "      <td>$88.99B</td>\n",
       "      <td>$4.92B</td>\n",
       "      <td>0.0553</td>\n",
       "      <td>88.99</td>\n",
       "    </tr>\n",
       "    <tr>\n",
       "      <th>10</th>\n",
       "      <td>2015-12-31</td>\n",
       "      <td>$107.01B</td>\n",
       "      <td>$8.51B</td>\n",
       "      <td>0.0796</td>\n",
       "      <td>107.01</td>\n",
       "    </tr>\n",
       "    <tr>\n",
       "      <th>11</th>\n",
       "      <td>2016-12-31</td>\n",
       "      <td>$135.99B</td>\n",
       "      <td>$12.30B</td>\n",
       "      <td>0.0905</td>\n",
       "      <td>135.99</td>\n",
       "    </tr>\n",
       "    <tr>\n",
       "      <th>12</th>\n",
       "      <td>2017-12-31</td>\n",
       "      <td>$177.87B</td>\n",
       "      <td>$15.58B</td>\n",
       "      <td>0.0876</td>\n",
       "      <td>177.87</td>\n",
       "    </tr>\n",
       "    <tr>\n",
       "      <th>13</th>\n",
       "      <td>2018-12-31</td>\n",
       "      <td>$232.89B</td>\n",
       "      <td>$27.76B</td>\n",
       "      <td>0.1192</td>\n",
       "      <td>232.89</td>\n",
       "    </tr>\n",
       "    <tr>\n",
       "      <th>14</th>\n",
       "      <td>2019-12-31</td>\n",
       "      <td>$280.52B</td>\n",
       "      <td>$36.33B</td>\n",
       "      <td>0.1295</td>\n",
       "      <td>280.52</td>\n",
       "    </tr>\n",
       "  </tbody>\n",
       "</table>\n",
       "</div>"
      ],
      "text/plain": [
       "   Valuation Date TTM Revenue TTM EBITDA  EBITDA Margin (%) Revenue\n",
       "0      2005-12-31      $8.49B     $0.55B             0.0651    8.49\n",
       "1      2006-12-31     $10.71B     $0.59B             0.0555   10.71\n",
       "2      2007-12-31     $14.84B     $0.90B             0.0607   14.84\n",
       "3      2008-12-31     $19.17B     $1.13B             0.0589   19.17\n",
       "4      2009-12-31     $24.51B     $1.51B             0.0615   24.51\n",
       "5      2010-12-31     $34.20B     $1.97B             0.0577   34.20\n",
       "6      2011-12-31     $48.08B     $1.95B             0.0405   48.08\n",
       "7      2012-12-31     $61.09B     $2.84B             0.0464   61.09\n",
       "8      2013-12-31     $74.45B     $4.00B             0.0537   74.45\n",
       "9      2014-12-31     $88.99B     $4.92B             0.0553   88.99\n",
       "10     2015-12-31    $107.01B     $8.51B             0.0796  107.01\n",
       "11     2016-12-31    $135.99B    $12.30B             0.0905  135.99\n",
       "12     2017-12-31    $177.87B    $15.58B             0.0876  177.87\n",
       "13     2018-12-31    $232.89B    $27.76B             0.1192  232.89\n",
       "14     2019-12-31    $280.52B    $36.33B             0.1295  280.52"
      ]
     },
     "execution_count": 2,
     "metadata": {},
     "output_type": "execute_result"
    }
   ],
   "source": [
    "ms['Revenue1'] = ms['TTM Revenue'].str.replace('$','')\n",
    "ms['Revenue'] = ms['Revenue1'].str.replace('B','')\n",
    "ms.drop(['Revenue1'], axis=1)"
   ]
  },
  {
   "cell_type": "code",
   "execution_count": 3,
   "metadata": {},
   "outputs": [
    {
     "data": {
      "text/html": [
       "<div>\n",
       "<style scoped>\n",
       "    .dataframe tbody tr th:only-of-type {\n",
       "        vertical-align: middle;\n",
       "    }\n",
       "\n",
       "    .dataframe tbody tr th {\n",
       "        vertical-align: top;\n",
       "    }\n",
       "\n",
       "    .dataframe thead th {\n",
       "        text-align: right;\n",
       "    }\n",
       "</style>\n",
       "<table border=\"1\" class=\"dataframe\">\n",
       "  <thead>\n",
       "    <tr style=\"text-align: right;\">\n",
       "      <th></th>\n",
       "      <th>Valuation Date</th>\n",
       "      <th>TTM Revenue</th>\n",
       "      <th>TTM EBITDA</th>\n",
       "      <th>EBITDA Margin (%)</th>\n",
       "      <th>Revenue</th>\n",
       "      <th>EBITDA</th>\n",
       "    </tr>\n",
       "  </thead>\n",
       "  <tbody>\n",
       "    <tr>\n",
       "      <th>0</th>\n",
       "      <td>2005-12-31</td>\n",
       "      <td>$8.49B</td>\n",
       "      <td>$0.55B</td>\n",
       "      <td>0.0651</td>\n",
       "      <td>8.49</td>\n",
       "      <td>0.55</td>\n",
       "    </tr>\n",
       "    <tr>\n",
       "      <th>1</th>\n",
       "      <td>2006-12-31</td>\n",
       "      <td>$10.71B</td>\n",
       "      <td>$0.59B</td>\n",
       "      <td>0.0555</td>\n",
       "      <td>10.71</td>\n",
       "      <td>0.59</td>\n",
       "    </tr>\n",
       "    <tr>\n",
       "      <th>2</th>\n",
       "      <td>2007-12-31</td>\n",
       "      <td>$14.84B</td>\n",
       "      <td>$0.90B</td>\n",
       "      <td>0.0607</td>\n",
       "      <td>14.84</td>\n",
       "      <td>0.90</td>\n",
       "    </tr>\n",
       "    <tr>\n",
       "      <th>3</th>\n",
       "      <td>2008-12-31</td>\n",
       "      <td>$19.17B</td>\n",
       "      <td>$1.13B</td>\n",
       "      <td>0.0589</td>\n",
       "      <td>19.17</td>\n",
       "      <td>1.13</td>\n",
       "    </tr>\n",
       "    <tr>\n",
       "      <th>4</th>\n",
       "      <td>2009-12-31</td>\n",
       "      <td>$24.51B</td>\n",
       "      <td>$1.51B</td>\n",
       "      <td>0.0615</td>\n",
       "      <td>24.51</td>\n",
       "      <td>1.51</td>\n",
       "    </tr>\n",
       "    <tr>\n",
       "      <th>5</th>\n",
       "      <td>2010-12-31</td>\n",
       "      <td>$34.20B</td>\n",
       "      <td>$1.97B</td>\n",
       "      <td>0.0577</td>\n",
       "      <td>34.20</td>\n",
       "      <td>1.97</td>\n",
       "    </tr>\n",
       "    <tr>\n",
       "      <th>6</th>\n",
       "      <td>2011-12-31</td>\n",
       "      <td>$48.08B</td>\n",
       "      <td>$1.95B</td>\n",
       "      <td>0.0405</td>\n",
       "      <td>48.08</td>\n",
       "      <td>1.95</td>\n",
       "    </tr>\n",
       "    <tr>\n",
       "      <th>7</th>\n",
       "      <td>2012-12-31</td>\n",
       "      <td>$61.09B</td>\n",
       "      <td>$2.84B</td>\n",
       "      <td>0.0464</td>\n",
       "      <td>61.09</td>\n",
       "      <td>2.84</td>\n",
       "    </tr>\n",
       "    <tr>\n",
       "      <th>8</th>\n",
       "      <td>2013-12-31</td>\n",
       "      <td>$74.45B</td>\n",
       "      <td>$4.00B</td>\n",
       "      <td>0.0537</td>\n",
       "      <td>74.45</td>\n",
       "      <td>4.00</td>\n",
       "    </tr>\n",
       "    <tr>\n",
       "      <th>9</th>\n",
       "      <td>2014-12-31</td>\n",
       "      <td>$88.99B</td>\n",
       "      <td>$4.92B</td>\n",
       "      <td>0.0553</td>\n",
       "      <td>88.99</td>\n",
       "      <td>4.92</td>\n",
       "    </tr>\n",
       "    <tr>\n",
       "      <th>10</th>\n",
       "      <td>2015-12-31</td>\n",
       "      <td>$107.01B</td>\n",
       "      <td>$8.51B</td>\n",
       "      <td>0.0796</td>\n",
       "      <td>107.01</td>\n",
       "      <td>8.51</td>\n",
       "    </tr>\n",
       "    <tr>\n",
       "      <th>11</th>\n",
       "      <td>2016-12-31</td>\n",
       "      <td>$135.99B</td>\n",
       "      <td>$12.30B</td>\n",
       "      <td>0.0905</td>\n",
       "      <td>135.99</td>\n",
       "      <td>12.30</td>\n",
       "    </tr>\n",
       "    <tr>\n",
       "      <th>12</th>\n",
       "      <td>2017-12-31</td>\n",
       "      <td>$177.87B</td>\n",
       "      <td>$15.58B</td>\n",
       "      <td>0.0876</td>\n",
       "      <td>177.87</td>\n",
       "      <td>15.58</td>\n",
       "    </tr>\n",
       "    <tr>\n",
       "      <th>13</th>\n",
       "      <td>2018-12-31</td>\n",
       "      <td>$232.89B</td>\n",
       "      <td>$27.76B</td>\n",
       "      <td>0.1192</td>\n",
       "      <td>232.89</td>\n",
       "      <td>27.76</td>\n",
       "    </tr>\n",
       "    <tr>\n",
       "      <th>14</th>\n",
       "      <td>2019-12-31</td>\n",
       "      <td>$280.52B</td>\n",
       "      <td>$36.33B</td>\n",
       "      <td>0.1295</td>\n",
       "      <td>280.52</td>\n",
       "      <td>36.33</td>\n",
       "    </tr>\n",
       "  </tbody>\n",
       "</table>\n",
       "</div>"
      ],
      "text/plain": [
       "   Valuation Date TTM Revenue TTM EBITDA  EBITDA Margin (%) Revenue EBITDA\n",
       "0      2005-12-31      $8.49B     $0.55B             0.0651    8.49   0.55\n",
       "1      2006-12-31     $10.71B     $0.59B             0.0555   10.71   0.59\n",
       "2      2007-12-31     $14.84B     $0.90B             0.0607   14.84   0.90\n",
       "3      2008-12-31     $19.17B     $1.13B             0.0589   19.17   1.13\n",
       "4      2009-12-31     $24.51B     $1.51B             0.0615   24.51   1.51\n",
       "5      2010-12-31     $34.20B     $1.97B             0.0577   34.20   1.97\n",
       "6      2011-12-31     $48.08B     $1.95B             0.0405   48.08   1.95\n",
       "7      2012-12-31     $61.09B     $2.84B             0.0464   61.09   2.84\n",
       "8      2013-12-31     $74.45B     $4.00B             0.0537   74.45   4.00\n",
       "9      2014-12-31     $88.99B     $4.92B             0.0553   88.99   4.92\n",
       "10     2015-12-31    $107.01B     $8.51B             0.0796  107.01   8.51\n",
       "11     2016-12-31    $135.99B    $12.30B             0.0905  135.99  12.30\n",
       "12     2017-12-31    $177.87B    $15.58B             0.0876  177.87  15.58\n",
       "13     2018-12-31    $232.89B    $27.76B             0.1192  232.89  27.76\n",
       "14     2019-12-31    $280.52B    $36.33B             0.1295  280.52  36.33"
      ]
     },
     "execution_count": 3,
     "metadata": {},
     "output_type": "execute_result"
    }
   ],
   "source": [
    "ms['a'] = ms['TTM EBITDA'].str.replace('$','')\n",
    "ms['EBITDA'] = ms['a'].str.replace('B','')\n",
    "ms.drop(['Revenue1','a'], axis=1)"
   ]
  },
  {
   "cell_type": "code",
   "execution_count": 4,
   "metadata": {},
   "outputs": [],
   "source": [
    "ms[\"Revenue\"] = pd.to_numeric(ms[\"Revenue\"])\n",
    "ms[\"EBITDA\"] = pd.to_numeric(ms[\"EBITDA\"])"
   ]
  },
  {
   "cell_type": "code",
   "execution_count": 5,
   "metadata": {},
   "outputs": [],
   "source": [
    "ms['Yearly Growth %'] = ((ms['Revenue'] - ms['Revenue'].shift(1))/ms['Revenue'].shift(1))*100"
   ]
  },
  {
   "cell_type": "code",
   "execution_count": 6,
   "metadata": {},
   "outputs": [],
   "source": [
    "ms['Yearly Growth %'] = ms['Yearly Growth %'].fillna(0)"
   ]
  },
  {
   "cell_type": "code",
   "execution_count": 7,
   "metadata": {},
   "outputs": [],
   "source": [
    "ms['Valuation Date']=pd.to_datetime(ms['Valuation Date'])\n",
    "ms=ms.set_index('Valuation Date')"
   ]
  },
  {
   "cell_type": "code",
   "execution_count": 8,
   "metadata": {},
   "outputs": [
    {
     "data": {
      "text/plain": [
       "[<matplotlib.lines.Line2D at 0x11ad5df10>]"
      ]
     },
     "execution_count": 8,
     "metadata": {},
     "output_type": "execute_result"
    },
    {
     "data": {
      "image/png": "[encoded data removed]",
      "text/plain": [
       "<Figure size 432x288 with 1 Axes>"
      ]
     },
     "metadata": {
      "needs_background": "light"
     },
     "output_type": "display_data"
    }
   ],
   "source": [
    "plt.plot(ms.index, ms['Yearly Growth %'])"
   ]
  },
  {
   "cell_type": "code",
   "execution_count": 24,
   "metadata": {},
   "outputs": [
    {
     "data": {
      "image/png": "[encoded data removed]",
      "text/plain": [
       "<Figure size 432x288 with 2 Axes>"
      ]
     },
     "metadata": {
      "needs_background": "light"
     },
     "output_type": "display_data"
    }
   ],
   "source": [
    "#Correct way of plotting 2 different commodities\n",
    "fig,ax=plt.subplots()\n",
    "ax.plot(ms.index, ms[\"Revenue\"], color='red', marker=\"o\")\n",
    "ax.set_xlabel(\"Year\",fontsize=14)\n",
    "ax.set_ylabel(\"Revenue\",color=\"red\",fontsize=14)\n",
    "ax2=ax.twinx()\n",
    "ax2.plot(ms.index, ms[\"EBITDA Margin (%)\"],color=\"blue\",marker=\"o\")\n",
    "ax2.set_ylabel(\"EBITDA Margin %\",color=\"blue\",fontsize=14)\n",
    "plt.show()"
   ]
  },
  {
   "cell_type": "code",
   "execution_count": 25,
   "metadata": {},
   "outputs": [
    {
     "data": {
      "image/png": "[encoded data removed]",
      "text/plain": [
       "<Figure size 432x288 with 4 Axes>"
      ]
     },
     "metadata": {
      "needs_background": "light"
     },
     "output_type": "display_data"
    }
   ],
   "source": [
    "import statsmodels.api as sm\n",
    "decomposition=sm.tsa.seasonal_decompose(ms['Yearly Growth %'], model='additive')\n",
    "fig=decomposition.plot()\n",
    "plt.rcParams['figure.figsize']=[12.0,8.0]"
   ]
  },
  {
   "cell_type": "code",
   "execution_count": 26,
   "metadata": {},
   "outputs": [
    {
     "data": {
      "text/plain": [
       "[<matplotlib.lines.Line2D at 0x1a1e916290>]"
      ]
     },
     "execution_count": 26,
     "metadata": {},
     "output_type": "execute_result"
    },
    {
     "data": {
      "image/png": "[encoded data removed]",
      "text/plain": [
       "<Figure size 864x576 with 1 Axes>"
      ]
     },
     "metadata": {
      "needs_background": "light"
     },
     "output_type": "display_data"
    }
   ],
   "source": [
    "import matplotlib.dates as mdates\n",
    "fig, ax = plt.subplots()\n",
    "ax.grid(True)\n",
    "year = mdates.YearLocator(month=12)\n",
    "month = mdates.MonthLocator(interval=3)\n",
    "year_format = mdates.DateFormatter('%Y')\n",
    "month_format = mdates.DateFormatter('%m')\n",
    "ax.xaxis.set_minor_locator(month)\n",
    "ax.xaxis.grid(True, which = 'minor')\n",
    "ax.xaxis.set_major_locator(year)\n",
    "ax.xaxis.set_major_formatter(year_format)\n",
    "plt.plot(ms.index, ms['Yearly Growth %'], c='blue')\n",
    "plt.plot(decomposition.trend.index, decomposition.trend, c='red')"
   ]
  },
  {
   "cell_type": "code",
   "execution_count": 31,
   "metadata": {},
   "outputs": [],
   "source": [
    "x=ms['Yearly Growth %'].sum()\n",
    "y=len(ms.index)"
   ]
  },
  {
   "cell_type": "code",
   "execution_count": 32,
   "metadata": {},
   "outputs": [
    {
     "name": "stdout",
     "output_type": "stream",
     "text": [
      "Average year-on-year growth rate is-  28.55959133572059 %\n"
     ]
    }
   ],
   "source": [
    "Average= (x/(y-1))\n",
    "print(\"Average year-on-year growth rate is- \", Average, \"%\")"
   ]
  },
  {
   "cell_type": "code",
   "execution_count": 48,
   "metadata": {},
   "outputs": [],
   "source": [
    "ms['Year'] = ms.index.year\n",
    "mydict = dict(zip(ms['Year'], ms['Yearly Growth %']))"
   ]
  },
  {
   "cell_type": "code",
   "execution_count": 55,
   "metadata": {},
   "outputs": [
    {
     "data": {
      "text/plain": [
       "{2005: 0.0,\n",
       " 2006: 26.14840989399294,\n",
       " 2007: 38.56209150326796,\n",
       " 2008: 29.177897574124,\n",
       " 2009: 27.856025039123626,\n",
       " 2010: 39.53488372093024,\n",
       " 2011: 40.584795321637415,\n",
       " 2012: 27.059068219633954,\n",
       " 2013: 21.869373056146664,\n",
       " 2014: 19.529885829415704,\n",
       " 2015: 20.249466232160927,\n",
       " 2016: 27.081581160639196,\n",
       " 2017: 30.79638208691815,\n",
       " 2018: 30.932703659976372,\n",
       " 2019: 20.451715402121174}"
      ]
     },
     "execution_count": 55,
     "metadata": {},
     "output_type": "execute_result"
    }
   ],
   "source": [
    "mydict"
   ]
  },
  {
   "cell_type": "code",
   "execution_count": 59,
   "metadata": {},
   "outputs": [
    {
     "name": "stdout",
     "output_type": "stream",
     "text": [
      "2005\n",
      "2006\n",
      "2007\n",
      "2008\n",
      "2009\n",
      "2010\n",
      "2011\n",
      "2012\n",
      "2013\n",
      "2014\n",
      "2015\n",
      "2016\n",
      "2017\n",
      "2018\n",
      "2019\n"
     ]
    }
   ],
   "source": [
    "for key, value in mydict.items() :\n",
    "    print (key)"
   ]
  },
  {
   "cell_type": "code",
   "execution_count": 82,
   "metadata": {},
   "outputs": [
    {
     "name": "stdout",
     "output_type": "stream",
     "text": [
      "Moderate growth rate in the year-  2006\n",
      "High growth rate in the year-  2007\n",
      "Moderate growth rate in the year-  2008\n",
      "Moderate growth rate in the year-  2009\n",
      "High growth rate in the year-  2010\n",
      "High growth rate in the year-  2011\n",
      "Moderate growth rate in the year-  2012\n",
      "Moderate growth rate in the year-  2013\n",
      "Low growth rate in the year-  2014\n",
      "Moderate growth rate in the year-  2015\n",
      "Moderate growth rate in the year-  2016\n",
      "High growth rate in the year-  2017\n",
      "High growth rate in the year-  2018\n",
      "Moderate growth rate in the year-  2019\n"
     ]
    }
   ],
   "source": [
    "for key, value in mydict.items():\n",
    "    if value >=10 and value <=20:\n",
    "        print(\"Low growth rate in the year- \", key)\n",
    "    if value >=20 and value <=30:\n",
    "        print(\"Moderate growth rate in the year- \", key)\n",
    "    if value >=30:\n",
    "        print(\"High growth rate in the year- \", key)"
   ]
  },
  {
   "cell_type": "code",
   "execution_count": null,
   "metadata": {},
   "outputs": [],
   "source": []
  }
 ],
 "metadata": {
  "kernelspec": {
   "display_name": "Python 3",
   "language": "python",
   "name": "python3"
  },
  "language_info": {
   "codemirror_mode": {
    "name": "ipython",
    "version": 3
   },
   "file_extension": ".py",
   "mimetype": "text/x-python",
   "name": "python",
   "nbconvert_exporter": "python",
   "pygments_lexer": "ipython3",
   "version": "3.7.6"
  }
 },
 "nbformat": 4,
 "nbformat_minor": 4
}
