{
 "cells": [
  {
   "cell_type": "code",
   "execution_count": 2,
   "metadata": {},
   "outputs": [],
   "source": [
    "import pandas as pd"
   ]
  },
  {
   "cell_type": "code",
   "execution_count": 3,
   "metadata": {},
   "outputs": [
    {
     "name": "stdout",
     "output_type": "stream",
     "text": [
      "CloudTara\n"
     ]
    }
   ],
   "source": [
    "print(\"CloudTara\")"
   ]
  },
  {
   "cell_type": "code",
   "execution_count": 4,
   "metadata": {},
   "outputs": [],
   "source": [
    "import numpy as np"
   ]
  },
  {
   "cell_type": "code",
   "execution_count": 5,
   "metadata": {},
   "outputs": [
    {
     "data": {
      "text/plain": [
       "array([0.25952137, 0.1383184 , 0.40790365, 0.92656486, 0.7731639 ,\n",
       "       0.78488401, 0.93463099])"
      ]
     },
     "execution_count": 5,
     "metadata": {},
     "output_type": "execute_result"
    }
   ],
   "source": [
    "np.random.rand(7)"
   ]
  },
  {
   "cell_type": "code",
   "execution_count": 159,
   "metadata": {},
   "outputs": [],
   "source": [
    "import pandas as pd"
   ]
  },
  {
   "cell_type": "code",
   "execution_count": 160,
   "metadata": {},
   "outputs": [],
   "source": [
    "df = pd.read_excel (r'Desktop/CloudTara/Apple_Train.xlsx')"
   ]
  },
  {
   "cell_type": "code",
   "execution_count": 161,
   "metadata": {},
   "outputs": [
    {
     "name": "stdout",
     "output_type": "stream",
     "text": [
      "   Valuation Date TTM Revenue TTM EBITDA  EBITDA Margin\n",
      "0      2005-12-31     $16.19B     $2.18B         0.1347\n",
      "1      2006-12-31     $20.68B     $3.27B         0.1582\n",
      "2      2007-12-31     $27.07B     $5.57B         0.2058\n",
      "3      2008-12-31     $39.76B     $9.86B         0.2480\n",
      "4      2009-12-31     $46.71B    $14.14B         0.3027\n",
      "5      2010-12-31     $76.28B    $22.66B         0.2971\n",
      "6      2011-12-31    $127.84B    $45.48B         0.3558\n",
      "7      2012-12-31    $164.69B    $59.26B         0.3598\n",
      "8      2013-12-31    $173.99B    $56.57B         0.3251\n",
      "9      2014-12-31    $199.80B    $67.66B         0.3387\n",
      "10     2015-12-31    $234.99B    $82.79B         0.3523\n",
      "11     2016-12-31    $218.12B    $69.75B         0.3198\n",
      "12     2017-12-31    $239.18B    $74.17B         0.3101\n",
      "13     2018-12-31    $261.61B    $79.52B         0.3040\n",
      "14     2019-12-31    $267.68B    $78.12B         0.2918\n"
     ]
    }
   ],
   "source": [
    "print(df)"
   ]
  },
  {
   "cell_type": "code",
   "execution_count": 162,
   "metadata": {},
   "outputs": [],
   "source": [
    "import matplotlib.pyplot as plt"
   ]
  },
  {
   "cell_type": "code",
   "execution_count": 183,
   "metadata": {},
   "outputs": [
    {
     "data": {
      "text/plain": [
       "[<matplotlib.lines.Line2D at 0x117e01e90>]"
      ]
     },
     "execution_count": 183,
     "metadata": {},
     "output_type": "execute_result"
    },
    {
     "data": {
      "image/png": "[encoded data removed]",
      "text/plain": [
       "<Figure size 432x288 with 1 Axes>"
      ]
     },
     "metadata": {
      "needs_background": "light"
     },
     "output_type": "display_data"
    }
   ],
   "source": [
    "plt.plot(df['Valuation Date'], df['Revenue'])"
   ]
  },
  {
   "cell_type": "code",
   "execution_count": 184,
   "metadata": {},
   "outputs": [
    {
     "data": {
      "text/plain": [
       "[<matplotlib.lines.Line2D at 0x117ed4e10>]"
      ]
     },
     "execution_count": 184,
     "metadata": {},
     "output_type": "execute_result"
    },
    {
     "data": {
      "image/png": "[encoded data removed]",
      "text/plain": [
       "<Figure size 432x288 with 1 Axes>"
      ]
     },
     "metadata": {
      "needs_background": "light"
     },
     "output_type": "display_data"
    }
   ],
   "source": [
    "plt.plot(df['Valuation Date'], df['EBITDA Margin'])"
   ]
  },
  {
   "cell_type": "code",
   "execution_count": 164,
   "metadata": {},
   "outputs": [],
   "source": [
    "df['Revenue1'] = df['TTM Revenue'].str.replace('$','')"
   ]
  },
  {
   "cell_type": "code",
   "execution_count": 165,
   "metadata": {},
   "outputs": [],
   "source": [
    "df['Revenue'] = df['Revenue1'].str.replace('B','')\n"
   ]
  },
  {
   "cell_type": "code",
   "execution_count": 167,
   "metadata": {},
   "outputs": [
    {
     "data": {
      "text/html": [
       "<div>\n",
       "<style scoped>\n",
       "    .dataframe tbody tr th:only-of-type {\n",
       "        vertical-align: middle;\n",
       "    }\n",
       "\n",
       "    .dataframe tbody tr th {\n",
       "        vertical-align: top;\n",
       "    }\n",
       "\n",
       "    .dataframe thead th {\n",
       "        text-align: right;\n",
       "    }\n",
       "</style>\n",
       "<table border=\"1\" class=\"dataframe\">\n",
       "  <thead>\n",
       "    <tr style=\"text-align: right;\">\n",
       "      <th></th>\n",
       "      <th>Valuation Date</th>\n",
       "      <th>TTM Revenue</th>\n",
       "      <th>TTM EBITDA</th>\n",
       "      <th>EBITDA Margin</th>\n",
       "      <th>Revenue</th>\n",
       "    </tr>\n",
       "  </thead>\n",
       "  <tbody>\n",
       "    <tr>\n",
       "      <th>0</th>\n",
       "      <td>2005-12-31</td>\n",
       "      <td>$16.19B</td>\n",
       "      <td>$2.18B</td>\n",
       "      <td>0.1347</td>\n",
       "      <td>16.19</td>\n",
       "    </tr>\n",
       "    <tr>\n",
       "      <th>1</th>\n",
       "      <td>2006-12-31</td>\n",
       "      <td>$20.68B</td>\n",
       "      <td>$3.27B</td>\n",
       "      <td>0.1582</td>\n",
       "      <td>20.68</td>\n",
       "    </tr>\n",
       "    <tr>\n",
       "      <th>2</th>\n",
       "      <td>2007-12-31</td>\n",
       "      <td>$27.07B</td>\n",
       "      <td>$5.57B</td>\n",
       "      <td>0.2058</td>\n",
       "      <td>27.07</td>\n",
       "    </tr>\n",
       "    <tr>\n",
       "      <th>3</th>\n",
       "      <td>2008-12-31</td>\n",
       "      <td>$39.76B</td>\n",
       "      <td>$9.86B</td>\n",
       "      <td>0.2480</td>\n",
       "      <td>39.76</td>\n",
       "    </tr>\n",
       "    <tr>\n",
       "      <th>4</th>\n",
       "      <td>2009-12-31</td>\n",
       "      <td>$46.71B</td>\n",
       "      <td>$14.14B</td>\n",
       "      <td>0.3027</td>\n",
       "      <td>46.71</td>\n",
       "    </tr>\n",
       "    <tr>\n",
       "      <th>5</th>\n",
       "      <td>2010-12-31</td>\n",
       "      <td>$76.28B</td>\n",
       "      <td>$22.66B</td>\n",
       "      <td>0.2971</td>\n",
       "      <td>76.28</td>\n",
       "    </tr>\n",
       "    <tr>\n",
       "      <th>6</th>\n",
       "      <td>2011-12-31</td>\n",
       "      <td>$127.84B</td>\n",
       "      <td>$45.48B</td>\n",
       "      <td>0.3558</td>\n",
       "      <td>127.84</td>\n",
       "    </tr>\n",
       "    <tr>\n",
       "      <th>7</th>\n",
       "      <td>2012-12-31</td>\n",
       "      <td>$164.69B</td>\n",
       "      <td>$59.26B</td>\n",
       "      <td>0.3598</td>\n",
       "      <td>164.69</td>\n",
       "    </tr>\n",
       "    <tr>\n",
       "      <th>8</th>\n",
       "      <td>2013-12-31</td>\n",
       "      <td>$173.99B</td>\n",
       "      <td>$56.57B</td>\n",
       "      <td>0.3251</td>\n",
       "      <td>173.99</td>\n",
       "    </tr>\n",
       "    <tr>\n",
       "      <th>9</th>\n",
       "      <td>2014-12-31</td>\n",
       "      <td>$199.80B</td>\n",
       "      <td>$67.66B</td>\n",
       "      <td>0.3387</td>\n",
       "      <td>199.80</td>\n",
       "    </tr>\n",
       "    <tr>\n",
       "      <th>10</th>\n",
       "      <td>2015-12-31</td>\n",
       "      <td>$234.99B</td>\n",
       "      <td>$82.79B</td>\n",
       "      <td>0.3523</td>\n",
       "      <td>234.99</td>\n",
       "    </tr>\n",
       "    <tr>\n",
       "      <th>11</th>\n",
       "      <td>2016-12-31</td>\n",
       "      <td>$218.12B</td>\n",
       "      <td>$69.75B</td>\n",
       "      <td>0.3198</td>\n",
       "      <td>218.12</td>\n",
       "    </tr>\n",
       "    <tr>\n",
       "      <th>12</th>\n",
       "      <td>2017-12-31</td>\n",
       "      <td>$239.18B</td>\n",
       "      <td>$74.17B</td>\n",
       "      <td>0.3101</td>\n",
       "      <td>239.18</td>\n",
       "    </tr>\n",
       "    <tr>\n",
       "      <th>13</th>\n",
       "      <td>2018-12-31</td>\n",
       "      <td>$261.61B</td>\n",
       "      <td>$79.52B</td>\n",
       "      <td>0.3040</td>\n",
       "      <td>261.61</td>\n",
       "    </tr>\n",
       "    <tr>\n",
       "      <th>14</th>\n",
       "      <td>2019-12-31</td>\n",
       "      <td>$267.68B</td>\n",
       "      <td>$78.12B</td>\n",
       "      <td>0.2918</td>\n",
       "      <td>267.68</td>\n",
       "    </tr>\n",
       "  </tbody>\n",
       "</table>\n",
       "</div>"
      ],
      "text/plain": [
       "   Valuation Date TTM Revenue TTM EBITDA  EBITDA Margin Revenue\n",
       "0      2005-12-31     $16.19B     $2.18B         0.1347   16.19\n",
       "1      2006-12-31     $20.68B     $3.27B         0.1582   20.68\n",
       "2      2007-12-31     $27.07B     $5.57B         0.2058   27.07\n",
       "3      2008-12-31     $39.76B     $9.86B         0.2480   39.76\n",
       "4      2009-12-31     $46.71B    $14.14B         0.3027   46.71\n",
       "5      2010-12-31     $76.28B    $22.66B         0.2971   76.28\n",
       "6      2011-12-31    $127.84B    $45.48B         0.3558  127.84\n",
       "7      2012-12-31    $164.69B    $59.26B         0.3598  164.69\n",
       "8      2013-12-31    $173.99B    $56.57B         0.3251  173.99\n",
       "9      2014-12-31    $199.80B    $67.66B         0.3387  199.80\n",
       "10     2015-12-31    $234.99B    $82.79B         0.3523  234.99\n",
       "11     2016-12-31    $218.12B    $69.75B         0.3198  218.12\n",
       "12     2017-12-31    $239.18B    $74.17B         0.3101  239.18\n",
       "13     2018-12-31    $261.61B    $79.52B         0.3040  261.61\n",
       "14     2019-12-31    $267.68B    $78.12B         0.2918  267.68"
      ]
     },
     "execution_count": 167,
     "metadata": {},
     "output_type": "execute_result"
    }
   ],
   "source": [
    "df.drop(['Revenue1'], axis=1)"
   ]
  },
  {
   "cell_type": "code",
   "execution_count": 168,
   "metadata": {},
   "outputs": [],
   "source": [
    "df['a'] = df['TTM EBITDA'].str.replace('$','')"
   ]
  },
  {
   "cell_type": "code",
   "execution_count": 169,
   "metadata": {},
   "outputs": [],
   "source": [
    "df['EBITDA'] = df['a'].str.replace('B','')"
   ]
  },
  {
   "cell_type": "code",
   "execution_count": 170,
   "metadata": {},
   "outputs": [
    {
     "data": {
      "text/html": [
       "<div>\n",
       "<style scoped>\n",
       "    .dataframe tbody tr th:only-of-type {\n",
       "        vertical-align: middle;\n",
       "    }\n",
       "\n",
       "    .dataframe tbody tr th {\n",
       "        vertical-align: top;\n",
       "    }\n",
       "\n",
       "    .dataframe thead th {\n",
       "        text-align: right;\n",
       "    }\n",
       "</style>\n",
       "<table border=\"1\" class=\"dataframe\">\n",
       "  <thead>\n",
       "    <tr style=\"text-align: right;\">\n",
       "      <th></th>\n",
       "      <th>Valuation Date</th>\n",
       "      <th>TTM Revenue</th>\n",
       "      <th>TTM EBITDA</th>\n",
       "      <th>EBITDA Margin</th>\n",
       "      <th>Revenue</th>\n",
       "      <th>EBITDA</th>\n",
       "    </tr>\n",
       "  </thead>\n",
       "  <tbody>\n",
       "    <tr>\n",
       "      <th>0</th>\n",
       "      <td>2005-12-31</td>\n",
       "      <td>$16.19B</td>\n",
       "      <td>$2.18B</td>\n",
       "      <td>0.1347</td>\n",
       "      <td>16.19</td>\n",
       "      <td>2.18</td>\n",
       "    </tr>\n",
       "    <tr>\n",
       "      <th>1</th>\n",
       "      <td>2006-12-31</td>\n",
       "      <td>$20.68B</td>\n",
       "      <td>$3.27B</td>\n",
       "      <td>0.1582</td>\n",
       "      <td>20.68</td>\n",
       "      <td>3.27</td>\n",
       "    </tr>\n",
       "    <tr>\n",
       "      <th>2</th>\n",
       "      <td>2007-12-31</td>\n",
       "      <td>$27.07B</td>\n",
       "      <td>$5.57B</td>\n",
       "      <td>0.2058</td>\n",
       "      <td>27.07</td>\n",
       "      <td>5.57</td>\n",
       "    </tr>\n",
       "    <tr>\n",
       "      <th>3</th>\n",
       "      <td>2008-12-31</td>\n",
       "      <td>$39.76B</td>\n",
       "      <td>$9.86B</td>\n",
       "      <td>0.2480</td>\n",
       "      <td>39.76</td>\n",
       "      <td>9.86</td>\n",
       "    </tr>\n",
       "    <tr>\n",
       "      <th>4</th>\n",
       "      <td>2009-12-31</td>\n",
       "      <td>$46.71B</td>\n",
       "      <td>$14.14B</td>\n",
       "      <td>0.3027</td>\n",
       "      <td>46.71</td>\n",
       "      <td>14.14</td>\n",
       "    </tr>\n",
       "    <tr>\n",
       "      <th>5</th>\n",
       "      <td>2010-12-31</td>\n",
       "      <td>$76.28B</td>\n",
       "      <td>$22.66B</td>\n",
       "      <td>0.2971</td>\n",
       "      <td>76.28</td>\n",
       "      <td>22.66</td>\n",
       "    </tr>\n",
       "    <tr>\n",
       "      <th>6</th>\n",
       "      <td>2011-12-31</td>\n",
       "      <td>$127.84B</td>\n",
       "      <td>$45.48B</td>\n",
       "      <td>0.3558</td>\n",
       "      <td>127.84</td>\n",
       "      <td>45.48</td>\n",
       "    </tr>\n",
       "    <tr>\n",
       "      <th>7</th>\n",
       "      <td>2012-12-31</td>\n",
       "      <td>$164.69B</td>\n",
       "      <td>$59.26B</td>\n",
       "      <td>0.3598</td>\n",
       "      <td>164.69</td>\n",
       "      <td>59.26</td>\n",
       "    </tr>\n",
       "    <tr>\n",
       "      <th>8</th>\n",
       "      <td>2013-12-31</td>\n",
       "      <td>$173.99B</td>\n",
       "      <td>$56.57B</td>\n",
       "      <td>0.3251</td>\n",
       "      <td>173.99</td>\n",
       "      <td>56.57</td>\n",
       "    </tr>\n",
       "    <tr>\n",
       "      <th>9</th>\n",
       "      <td>2014-12-31</td>\n",
       "      <td>$199.80B</td>\n",
       "      <td>$67.66B</td>\n",
       "      <td>0.3387</td>\n",
       "      <td>199.80</td>\n",
       "      <td>67.66</td>\n",
       "    </tr>\n",
       "    <tr>\n",
       "      <th>10</th>\n",
       "      <td>2015-12-31</td>\n",
       "      <td>$234.99B</td>\n",
       "      <td>$82.79B</td>\n",
       "      <td>0.3523</td>\n",
       "      <td>234.99</td>\n",
       "      <td>82.79</td>\n",
       "    </tr>\n",
       "    <tr>\n",
       "      <th>11</th>\n",
       "      <td>2016-12-31</td>\n",
       "      <td>$218.12B</td>\n",
       "      <td>$69.75B</td>\n",
       "      <td>0.3198</td>\n",
       "      <td>218.12</td>\n",
       "      <td>69.75</td>\n",
       "    </tr>\n",
       "    <tr>\n",
       "      <th>12</th>\n",
       "      <td>2017-12-31</td>\n",
       "      <td>$239.18B</td>\n",
       "      <td>$74.17B</td>\n",
       "      <td>0.3101</td>\n",
       "      <td>239.18</td>\n",
       "      <td>74.17</td>\n",
       "    </tr>\n",
       "    <tr>\n",
       "      <th>13</th>\n",
       "      <td>2018-12-31</td>\n",
       "      <td>$261.61B</td>\n",
       "      <td>$79.52B</td>\n",
       "      <td>0.3040</td>\n",
       "      <td>261.61</td>\n",
       "      <td>79.52</td>\n",
       "    </tr>\n",
       "    <tr>\n",
       "      <th>14</th>\n",
       "      <td>2019-12-31</td>\n",
       "      <td>$267.68B</td>\n",
       "      <td>$78.12B</td>\n",
       "      <td>0.2918</td>\n",
       "      <td>267.68</td>\n",
       "      <td>78.12</td>\n",
       "    </tr>\n",
       "  </tbody>\n",
       "</table>\n",
       "</div>"
      ],
      "text/plain": [
       "   Valuation Date TTM Revenue TTM EBITDA  EBITDA Margin Revenue EBITDA\n",
       "0      2005-12-31     $16.19B     $2.18B         0.1347   16.19   2.18\n",
       "1      2006-12-31     $20.68B     $3.27B         0.1582   20.68   3.27\n",
       "2      2007-12-31     $27.07B     $5.57B         0.2058   27.07   5.57\n",
       "3      2008-12-31     $39.76B     $9.86B         0.2480   39.76   9.86\n",
       "4      2009-12-31     $46.71B    $14.14B         0.3027   46.71  14.14\n",
       "5      2010-12-31     $76.28B    $22.66B         0.2971   76.28  22.66\n",
       "6      2011-12-31    $127.84B    $45.48B         0.3558  127.84  45.48\n",
       "7      2012-12-31    $164.69B    $59.26B         0.3598  164.69  59.26\n",
       "8      2013-12-31    $173.99B    $56.57B         0.3251  173.99  56.57\n",
       "9      2014-12-31    $199.80B    $67.66B         0.3387  199.80  67.66\n",
       "10     2015-12-31    $234.99B    $82.79B         0.3523  234.99  82.79\n",
       "11     2016-12-31    $218.12B    $69.75B         0.3198  218.12  69.75\n",
       "12     2017-12-31    $239.18B    $74.17B         0.3101  239.18  74.17\n",
       "13     2018-12-31    $261.61B    $79.52B         0.3040  261.61  79.52\n",
       "14     2019-12-31    $267.68B    $78.12B         0.2918  267.68  78.12"
      ]
     },
     "execution_count": 170,
     "metadata": {},
     "output_type": "execute_result"
    }
   ],
   "source": [
    "df.drop(['Revenue1','a'], axis=1)"
   ]
  },
  {
   "cell_type": "code",
   "execution_count": 171,
   "metadata": {},
   "outputs": [],
   "source": [
    "df[\"Revenue\"] = pd.to_numeric(df[\"Revenue\"])"
   ]
  },
  {
   "cell_type": "code",
   "execution_count": 172,
   "metadata": {},
   "outputs": [],
   "source": [
    "df[\"EBITDA\"] = pd.to_numeric(df[\"EBITDA\"])"
   ]
  },
  {
   "cell_type": "code",
   "execution_count": 174,
   "metadata": {},
   "outputs": [],
   "source": [
    "df['Yearly Growth %'] = ((df['Revenue'] - df['Revenue'].shift(1))/df['Revenue'].shift(1))*100"
   ]
  },
  {
   "cell_type": "code",
   "execution_count": 177,
   "metadata": {},
   "outputs": [
    {
     "data": {
      "text/html": [
       "<div>\n",
       "<style scoped>\n",
       "    .dataframe tbody tr th:only-of-type {\n",
       "        vertical-align: middle;\n",
       "    }\n",
       "\n",
       "    .dataframe tbody tr th {\n",
       "        vertical-align: top;\n",
       "    }\n",
       "\n",
       "    .dataframe thead th {\n",
       "        text-align: right;\n",
       "    }\n",
       "</style>\n",
       "<table border=\"1\" class=\"dataframe\">\n",
       "  <thead>\n",
       "    <tr style=\"text-align: right;\">\n",
       "      <th></th>\n",
       "      <th>Valuation Date</th>\n",
       "      <th>TTM Revenue</th>\n",
       "      <th>TTM EBITDA</th>\n",
       "      <th>EBITDA Margin</th>\n",
       "      <th>Revenue</th>\n",
       "      <th>EBITDA</th>\n",
       "      <th>Yearly Growth %</th>\n",
       "    </tr>\n",
       "  </thead>\n",
       "  <tbody>\n",
       "    <tr>\n",
       "      <th>0</th>\n",
       "      <td>2005-12-31</td>\n",
       "      <td>$16.19B</td>\n",
       "      <td>$2.18B</td>\n",
       "      <td>0.1347</td>\n",
       "      <td>16.19</td>\n",
       "      <td>2.18</td>\n",
       "      <td>NaN</td>\n",
       "    </tr>\n",
       "    <tr>\n",
       "      <th>1</th>\n",
       "      <td>2006-12-31</td>\n",
       "      <td>$20.68B</td>\n",
       "      <td>$3.27B</td>\n",
       "      <td>0.1582</td>\n",
       "      <td>20.68</td>\n",
       "      <td>3.27</td>\n",
       "      <td>27.733169</td>\n",
       "    </tr>\n",
       "    <tr>\n",
       "      <th>2</th>\n",
       "      <td>2007-12-31</td>\n",
       "      <td>$27.07B</td>\n",
       "      <td>$5.57B</td>\n",
       "      <td>0.2058</td>\n",
       "      <td>27.07</td>\n",
       "      <td>5.57</td>\n",
       "      <td>30.899420</td>\n",
       "    </tr>\n",
       "    <tr>\n",
       "      <th>3</th>\n",
       "      <td>2008-12-31</td>\n",
       "      <td>$39.76B</td>\n",
       "      <td>$9.86B</td>\n",
       "      <td>0.2480</td>\n",
       "      <td>39.76</td>\n",
       "      <td>9.86</td>\n",
       "      <td>46.878463</td>\n",
       "    </tr>\n",
       "    <tr>\n",
       "      <th>4</th>\n",
       "      <td>2009-12-31</td>\n",
       "      <td>$46.71B</td>\n",
       "      <td>$14.14B</td>\n",
       "      <td>0.3027</td>\n",
       "      <td>46.71</td>\n",
       "      <td>14.14</td>\n",
       "      <td>17.479879</td>\n",
       "    </tr>\n",
       "    <tr>\n",
       "      <th>5</th>\n",
       "      <td>2010-12-31</td>\n",
       "      <td>$76.28B</td>\n",
       "      <td>$22.66B</td>\n",
       "      <td>0.2971</td>\n",
       "      <td>76.28</td>\n",
       "      <td>22.66</td>\n",
       "      <td>63.305502</td>\n",
       "    </tr>\n",
       "    <tr>\n",
       "      <th>6</th>\n",
       "      <td>2011-12-31</td>\n",
       "      <td>$127.84B</td>\n",
       "      <td>$45.48B</td>\n",
       "      <td>0.3558</td>\n",
       "      <td>127.84</td>\n",
       "      <td>45.48</td>\n",
       "      <td>67.593078</td>\n",
       "    </tr>\n",
       "    <tr>\n",
       "      <th>7</th>\n",
       "      <td>2012-12-31</td>\n",
       "      <td>$164.69B</td>\n",
       "      <td>$59.26B</td>\n",
       "      <td>0.3598</td>\n",
       "      <td>164.69</td>\n",
       "      <td>59.26</td>\n",
       "      <td>28.825094</td>\n",
       "    </tr>\n",
       "    <tr>\n",
       "      <th>8</th>\n",
       "      <td>2013-12-31</td>\n",
       "      <td>$173.99B</td>\n",
       "      <td>$56.57B</td>\n",
       "      <td>0.3251</td>\n",
       "      <td>173.99</td>\n",
       "      <td>56.57</td>\n",
       "      <td>5.646973</td>\n",
       "    </tr>\n",
       "    <tr>\n",
       "      <th>9</th>\n",
       "      <td>2014-12-31</td>\n",
       "      <td>$199.80B</td>\n",
       "      <td>$67.66B</td>\n",
       "      <td>0.3387</td>\n",
       "      <td>199.80</td>\n",
       "      <td>67.66</td>\n",
       "      <td>14.834186</td>\n",
       "    </tr>\n",
       "    <tr>\n",
       "      <th>10</th>\n",
       "      <td>2015-12-31</td>\n",
       "      <td>$234.99B</td>\n",
       "      <td>$82.79B</td>\n",
       "      <td>0.3523</td>\n",
       "      <td>234.99</td>\n",
       "      <td>82.79</td>\n",
       "      <td>17.612613</td>\n",
       "    </tr>\n",
       "    <tr>\n",
       "      <th>11</th>\n",
       "      <td>2016-12-31</td>\n",
       "      <td>$218.12B</td>\n",
       "      <td>$69.75B</td>\n",
       "      <td>0.3198</td>\n",
       "      <td>218.12</td>\n",
       "      <td>69.75</td>\n",
       "      <td>-7.179029</td>\n",
       "    </tr>\n",
       "    <tr>\n",
       "      <th>12</th>\n",
       "      <td>2017-12-31</td>\n",
       "      <td>$239.18B</td>\n",
       "      <td>$74.17B</td>\n",
       "      <td>0.3101</td>\n",
       "      <td>239.18</td>\n",
       "      <td>74.17</td>\n",
       "      <td>9.655236</td>\n",
       "    </tr>\n",
       "    <tr>\n",
       "      <th>13</th>\n",
       "      <td>2018-12-31</td>\n",
       "      <td>$261.61B</td>\n",
       "      <td>$79.52B</td>\n",
       "      <td>0.3040</td>\n",
       "      <td>261.61</td>\n",
       "      <td>79.52</td>\n",
       "      <td>9.377874</td>\n",
       "    </tr>\n",
       "    <tr>\n",
       "      <th>14</th>\n",
       "      <td>2019-12-31</td>\n",
       "      <td>$267.68B</td>\n",
       "      <td>$78.12B</td>\n",
       "      <td>0.2918</td>\n",
       "      <td>267.68</td>\n",
       "      <td>78.12</td>\n",
       "      <td>2.320248</td>\n",
       "    </tr>\n",
       "  </tbody>\n",
       "</table>\n",
       "</div>"
      ],
      "text/plain": [
       "   Valuation Date TTM Revenue TTM EBITDA  EBITDA Margin  Revenue  EBITDA  \\\n",
       "0      2005-12-31     $16.19B     $2.18B         0.1347    16.19    2.18   \n",
       "1      2006-12-31     $20.68B     $3.27B         0.1582    20.68    3.27   \n",
       "2      2007-12-31     $27.07B     $5.57B         0.2058    27.07    5.57   \n",
       "3      2008-12-31     $39.76B     $9.86B         0.2480    39.76    9.86   \n",
       "4      2009-12-31     $46.71B    $14.14B         0.3027    46.71   14.14   \n",
       "5      2010-12-31     $76.28B    $22.66B         0.2971    76.28   22.66   \n",
       "6      2011-12-31    $127.84B    $45.48B         0.3558   127.84   45.48   \n",
       "7      2012-12-31    $164.69B    $59.26B         0.3598   164.69   59.26   \n",
       "8      2013-12-31    $173.99B    $56.57B         0.3251   173.99   56.57   \n",
       "9      2014-12-31    $199.80B    $67.66B         0.3387   199.80   67.66   \n",
       "10     2015-12-31    $234.99B    $82.79B         0.3523   234.99   82.79   \n",
       "11     2016-12-31    $218.12B    $69.75B         0.3198   218.12   69.75   \n",
       "12     2017-12-31    $239.18B    $74.17B         0.3101   239.18   74.17   \n",
       "13     2018-12-31    $261.61B    $79.52B         0.3040   261.61   79.52   \n",
       "14     2019-12-31    $267.68B    $78.12B         0.2918   267.68   78.12   \n",
       "\n",
       "    Yearly Growth %  \n",
       "0               NaN  \n",
       "1         27.733169  \n",
       "2         30.899420  \n",
       "3         46.878463  \n",
       "4         17.479879  \n",
       "5         63.305502  \n",
       "6         67.593078  \n",
       "7         28.825094  \n",
       "8          5.646973  \n",
       "9         14.834186  \n",
       "10        17.612613  \n",
       "11        -7.179029  \n",
       "12         9.655236  \n",
       "13         9.377874  \n",
       "14         2.320248  "
      ]
     },
     "execution_count": 177,
     "metadata": {},
     "output_type": "execute_result"
    }
   ],
   "source": [
    "df.drop(['Revenue1','a', 'Quarterly Growth %'], axis=1)"
   ]
  },
  {
   "cell_type": "code",
   "execution_count": 182,
   "metadata": {},
   "outputs": [
    {
     "data": {
      "text/plain": [
       "[<matplotlib.lines.Line2D at 0x117d37bd0>]"
      ]
     },
     "execution_count": 182,
     "metadata": {},
     "output_type": "execute_result"
    },
    {
     "data": {
      "image/png": "[encoded data removed]",
      "text/plain": [
       "<Figure size 432x288 with 1 Axes>"
      ]
     },
     "metadata": {
      "needs_background": "light"
     },
     "output_type": "display_data"
    }
   ],
   "source": [
    "plt.plot(df['Valuation Date'], df['Yearly Growth %'])"
   ]
  },
  {
   "cell_type": "code",
   "execution_count": null,
   "metadata": {},
   "outputs": [],
   "source": []
  }
 ],
 "metadata": {
  "kernelspec": {
   "display_name": "Python 3",
   "language": "python",
   "name": "python3"
  },
  "language_info": {
   "codemirror_mode": {
    "name": "ipython",
    "version": 3
   },
   "file_extension": ".py",
   "mimetype": "text/x-python",
   "name": "python",
   "nbconvert_exporter": "python",
   "pygments_lexer": "ipython3",
   "version": "3.7.6"
  }
 },
 "nbformat": 4,
 "nbformat_minor": 4
}
